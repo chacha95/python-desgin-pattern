{
    "cells": [
        {
            "cell_type": "code",
            "execution_count": 4,
            "source": [
                "class CPU:\n",
                "    def freeze(self):\n",
                "        print('freeze processor')\n",
                "    \n",
                "    def "
            ],
            "outputs": [],
            "metadata": {}
        },
        {
            "cell_type": "code",
            "execution_count": 5,
            "source": [
                "wm = WashingMachine()\n",
                "wm.startWashing()"
            ],
            "outputs": [
                {
                    "output_type": "stream",
                    "name": "stdout",
                    "text": [
                        "Washing...\n",
                        "Rinsing...\n",
                        "Spinning...\n"
                    ]
                }
            ],
            "metadata": {}
        }
    ],
    "metadata": {
        "orig_nbformat": 4,
        "language_info": {
            "name": "python"
        }
    },
    "nbformat": 4,
    "nbformat_minor": 2
}